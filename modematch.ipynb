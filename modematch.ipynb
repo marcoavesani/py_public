{
 "cells": [
  {
   "cell_type": "code",
   "execution_count": null,
   "metadata": {
    "collapsed": true
   },
   "outputs": [],
   "source": [
    "#!/usr/bin/env python\n",
    "\n",
    "import sympy as sy\n",
    "import numpy as np\n",
    "import matplotlib.pyplot as pl\n",
    "#from qutip import *\n",
    "from sympy.physics.quantum import TensorProduct\n",
    "import scipy.optimize as optimize\n",
    "\n",
    "qx1=sy.symbols('qx1')\n",
    "qy1=sy.symbols('qy1')\n",
    "q2=sy.symbols('q2')\n",
    "lamb=1550*10**(-9)\n",
    "k=2*np.pi/lamb\n",
    "def prop( d):\n",
    "    distance=sy.Matrix([[1,d],[0,1]]);\n",
    "    return distance\n",
    "def lens( f):\n",
    "    lenss=sy.Matrix([[1,0],[(-1/f),1]]);\n",
    "    return lenss    \n",
    "def egauss_ell(x,y,qx,qy):\n",
    "    efield=((1/np.sqrt(2*qx))*np.exp(-1j*k*(x**2)/(2*qx)))*((1/np.sqrt(2*qy))*np.exp(-1j*k*(y**2)/(2*qy)))\n",
    "    return efield\n",
    "def total_ev(q,d1,f1,d2,f2,d3):\n",
    "    temp=prop(d1)*lens(f1)*prop(d2)*lens(f2)*prop(d3)\n",
    "    qt=(q*temp[1,1]+temp[1,2])/(q*temp[2,1]+temp[2,2])\n",
    "    return qt\n",
    "def zrtoW0(zr):\n",
    "    return np.sqrt((lamb*zr)/(np.pi))\n",
    "def w0tozr(w0):\n",
    "    return ((np.pi*w0**2)/lamb)"
   ]
  }
 ],
 "metadata": {
  "kernelspec": {
   "display_name": "Python 3",
   "language": "python",
   "name": "python3"
  },
  "language_info": {
   "codemirror_mode": {
    "name": "ipython",
    "version": 3
   },
   "file_extension": ".py",
   "mimetype": "text/x-python",
   "name": "python",
   "nbconvert_exporter": "python",
   "pygments_lexer": "ipython3",
   "version": "3.5.1"
  }
 },
 "nbformat": 4,
 "nbformat_minor": 0
}
